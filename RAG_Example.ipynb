{
 "cells": [
  {
   "cell_type": "code",
   "execution_count": 2,
   "metadata": {},
   "outputs": [
    {
     "data": {
      "text/plain": [
       "_StoreAction(option_strings=['--url'], dest='url', nargs=None, const=None, default='https://news.google.co.uk/', type=<class 'str'>, choices=None, required=True, help='The URL to filter out.', metavar=None)"
      ]
     },
     "execution_count": 2,
     "metadata": {},
     "output_type": "execute_result"
    }
   ],
   "source": [
    "import argparse\n",
    "\n",
    "from langchain.document_loaders import WebBaseLoader\n",
    "from langchain.text_splitter import RecursiveCharacterTextSplitter\n",
    "from langchain.vectorstores import Chroma #Import Chroma to generate and store new embeddings\n",
    "from langchain.embeddings import OllamaEmbeddings \n",
    "\n",
    "from langchain.llms import Ollama\n",
    "from langchain.callbacks.manager import CallbackManager\n",
    "from langchain.callbacks.streaming_stdout import StreamingStdOutCallbackHandler\n",
    "\n",
    "\n",
    "parser = argparse.ArgumentParser(description='Filter out URL argument.')"
   ]
  },
  {
   "cell_type": "code",
   "execution_count": 15,
   "metadata": {},
   "outputs": [
    {
     "name": "stdout",
     "output_type": "stream",
     "text": [
      "URL: https://python.langchain.com/docs/integrations/text_embedding/ollama/\n"
     ]
    }
   ],
   "source": [
    "import argparse\n",
    "import sys\n",
    "\n",
    "if __name__ == \"__main__\":\n",
    "    if \"ipykernel_launcher\" in sys.argv[0]:  # Running in a Jupyter Notebook\n",
    "        url = 'https://python.langchain.com/docs/integrations/text_embedding/ollama/'\n",
    "    else:\n",
    "        parser = argparse.ArgumentParser(description='Filter out URL argument.')\n",
    "        parser.add_argument('--url', type=str, required=True, help='The URL to filter out.')\n",
    "        args = parser.parse_args()\n",
    "        url = args.url\n",
    "\n",
    "    print(f\"URL: {url}\")\n",
    "\n",
    "\n",
    "loader = WebBaseLoader(url)\n",
    "data = loader.load()"
   ]
  },
  {
   "cell_type": "code",
   "execution_count": 17,
   "metadata": {},
   "outputs": [
    {
     "name": "stdout",
     "output_type": "stream",
     "text": [
      "Split into 16 chunks\n"
     ]
    }
   ],
   "source": [
    "# Split into chunks \n",
    "text_splitter = RecursiveCharacterTextSplitter(chunk_size=1500, chunk_overlap=100)\n",
    "all_splits = text_splitter.split_documents(data)\n",
    "print(f\"Split into {len(all_splits)} chunks\")\n",
    "\n",
    "vectorstore = Chroma.from_documents(documents=all_splits, embedding=OllamaEmbeddings(model=\"phi3\"))"
   ]
  },
  {
   "cell_type": "code",
   "execution_count": 18,
   "metadata": {},
   "outputs": [
    {
     "name": "stdout",
     "output_type": "stream",
     "text": [
      "Loaded 1 documents\n"
     ]
    },
    {
     "name": "stderr",
     "output_type": "stream",
     "text": [
      "/opt/homebrew/anaconda3/envs/learn/lib/python3.12/site-packages/langsmith/client.py:241: LangSmithMissingAPIKeyWarning: API key must be provided when using hosted LangSmith API\n",
      "  warnings.warn(\n"
     ]
    },
    {
     "name": "stdout",
     "output_type": "stream",
     "text": [
      "Loaded LLM model phi3\n"
     ]
    },
    {
     "name": "stderr",
     "output_type": "stream",
     "text": [
      "/var/folders/m5/ykmk3pxj3sxdg46z7lzksq080000gn/T/ipykernel_5998/1116114562.py:14: DeprecationWarning: callback_manager is deprecated. Please use callbacks instead.\n",
      "  llm = Ollama(model=\"phi3\",\n"
     ]
    }
   ],
   "source": [
    "print(f\"Loaded {len(data)} documents\")\n",
    "\n",
    "# RAG prompt\n",
    "from langchain import hub\n",
    "QA_CHAIN_PROMPT = hub.pull(\"rlm/rag-prompt-llama\")\n",
    "\n",
    "\n",
    "# LLM\n",
    "llm = Ollama(model=\"phi3\",\n",
    "            verbose=True,\n",
    "            callback_manager=CallbackManager([StreamingStdOutCallbackHandler()]))\n",
    "print(f\"Loaded LLM model {llm.model}\")"
   ]
  },
  {
   "cell_type": "code",
   "execution_count": 19,
   "metadata": {},
   "outputs": [],
   "source": [
    "# QA chain\n",
    "from langchain.chains import RetrievalQA\n",
    "qa_chain = RetrievalQA.from_chain_type(\n",
    "    llm,\n",
    "    retriever=vectorstore.as_retriever(),\n",
    "    chain_type_kwargs={\"prompt\": QA_CHAIN_PROMPT},\n",
    "\n",
    ")"
   ]
  },
  {
   "cell_type": "code",
   "execution_count": 20,
   "metadata": {},
   "outputs": [
    {
     "name": "stdout",
     "output_type": "stream",
     "text": [
      "To embed multiple texts using Ollama, first import the necessary libraries and load your documents. Then use `embedd0m_graph` to generate text vectors for each document by iterating over them with a loop or list comprehension, printing out the results as needed:\n",
      "\n",
      "```python\n",
      "from langchain.embedders import embedd0m_graph  # Import Ollama's embedding model from LangChain library\n",
      "text1 = \"LangGraph is a library for building stateful, multi-actor applications with LLMs\"\n",
      "text2 = (    \"OllamaEmbeddings features and configuration options can be found in the API reference.\" )  # Example second text\n",
      "embedder = embedd0m_graph()  # Initialize Ollama's embedding model from LangChain library\n",
      "two_vectors = [embedder.encode(text).tolist() for text in (text1, text2)]  # Embed and store vectors of both texts\n",
      "for vector in two_vectors:\n",
      "    print(str(vector)[:100])  # Display the first 100 characters representing each embedded document's vector.\n",
      "```"
     ]
    }
   ],
   "source": [
    "question = f\"Summarize the content on {url}?\"\n",
    "result = qa_chain({\"query\": question})"
   ]
  }
 ],
 "metadata": {
  "kernelspec": {
   "display_name": "learn",
   "language": "python",
   "name": "python3"
  },
  "language_info": {
   "codemirror_mode": {
    "name": "ipython",
    "version": 3
   },
   "file_extension": ".py",
   "mimetype": "text/x-python",
   "name": "python",
   "nbconvert_exporter": "python",
   "pygments_lexer": "ipython3",
   "version": "3.12.2"
  }
 },
 "nbformat": 4,
 "nbformat_minor": 2
}
