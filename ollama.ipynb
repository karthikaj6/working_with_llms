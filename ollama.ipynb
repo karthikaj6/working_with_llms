{
 "cells": [
  {
   "cell_type": "code",
   "execution_count": 1,
   "metadata": {},
   "outputs": [
    {
     "name": "stderr",
     "output_type": "stream",
     "text": [
      "/var/folders/m5/ykmk3pxj3sxdg46z7lzksq080000gn/T/ipykernel_35248/1951155351.py:5: LangChainDeprecationWarning: The class `Ollama` was deprecated in LangChain 0.3.1 and will be removed in 1.0.0. An updated version of the class exists in the :class:`~langchain-ollama package and should be used instead. To use it run `pip install -U :class:`~langchain-ollama` and import as `from :class:`~langchain_ollama import OllamaLLM``.\n",
      "  llm = Ollama(model=\"llama3.2\", callback_manager = CallbackManager([StreamingStdOutCallbackHandler()]))\n",
      "/var/folders/m5/ykmk3pxj3sxdg46z7lzksq080000gn/T/ipykernel_35248/1951155351.py:5: DeprecationWarning: callback_manager is deprecated. Please use callbacks instead.\n",
      "  llm = Ollama(model=\"llama3.2\", callback_manager = CallbackManager([StreamingStdOutCallbackHandler()]))\n",
      "/var/folders/m5/ykmk3pxj3sxdg46z7lzksq080000gn/T/ipykernel_35248/1951155351.py:7: LangChainDeprecationWarning: The method `BaseLLM.__call__` was deprecated in langchain-core 0.1.7 and will be removed in 1.0. Use :meth:`~invoke` instead.\n",
      "  llm(\"Tell me about the teams in IPL\")\n"
     ]
    },
    {
     "name": "stdout",
     "output_type": "stream",
     "text": [
      "The Indian Premier League (IPL) is a professional Twenty20 cricket league in India. There are currently 10 teams in the IPL:\n",
      "\n",
      "1. **Chennai Super Kings (CSK)**: Based in Chennai, Tamil Nadu. They have won the IPL title three times (2010, 2011, and 2018).\n",
      "\n",
      "2. **Delhi Capitals (DC)**: Based in Delhi, India. They were previously known as the Delhi Daredevils but changed their name to Delhi Capitals in 2018.\n",
      "\n",
      "3. **Kings XI Punjab**: Based in Punjab, India. They have won the IPL title once (2009) and reached the finals six times.\n",
      "\n",
      "4. **Mumbai Indians (MI)**: Based in Mumbai, Maharashtra. They have won the IPL title five times (2013, 2015, 2017, 2019, and 2020).\n",
      "\n",
      "5. **Kolkata Knight Riders (KKR)**: Based in Kolkata, West Bengal. They have won the IPL title twice (2012 and 2014) and reached the finals four times.\n",
      "\n",
      "6. **Royal Challengers Bangalore (RCB)**: Based in Bangalore, Karnataka. They have reached the finals five times but have not yet won an IPL title.\n",
      "\n",
      "7. **Punjab Kings**: Based in Punjab, India. Formerly known as Kings XI Punjab, they changed their name to Punjab Kings in 2021.\n",
      "\n",
      "8. **Rajasthan Royals (RR)**: Based in Jaipur, Rajasthan. They have won the IPL title once (2008) and reached the finals three times.\n",
      "\n",
      "9. **Sunrisers Hyderabad (SRH)**: Based in Hyderabad, Telangana. They were previously known as the Deccan Chargers but changed their name to Sunrisers Hyderabad in 2013.\n",
      "\n",
      "10. **Gujarat Titans (GT)**: Based in Gujarat, India. They are a new team that replaced the former team Gujarat Lions in 2021.\n",
      "\n",
      "Each team has its own unique identity and fan base, with many teams having strong rivalries within the league."
     ]
    },
    {
     "data": {
      "text/plain": [
       "'The Indian Premier League (IPL) is a professional Twenty20 cricket league in India. There are currently 10 teams in the IPL:\\n\\n1. **Chennai Super Kings (CSK)**: Based in Chennai, Tamil Nadu. They have won the IPL title three times (2010, 2011, and 2018).\\n\\n2. **Delhi Capitals (DC)**: Based in Delhi, India. They were previously known as the Delhi Daredevils but changed their name to Delhi Capitals in 2018.\\n\\n3. **Kings XI Punjab**: Based in Punjab, India. They have won the IPL title once (2009) and reached the finals six times.\\n\\n4. **Mumbai Indians (MI)**: Based in Mumbai, Maharashtra. They have won the IPL title five times (2013, 2015, 2017, 2019, and 2020).\\n\\n5. **Kolkata Knight Riders (KKR)**: Based in Kolkata, West Bengal. They have won the IPL title twice (2012 and 2014) and reached the finals four times.\\n\\n6. **Royal Challengers Bangalore (RCB)**: Based in Bangalore, Karnataka. They have reached the finals five times but have not yet won an IPL title.\\n\\n7. **Punjab Kings**: Based in Punjab, India. Formerly known as Kings XI Punjab, they changed their name to Punjab Kings in 2021.\\n\\n8. **Rajasthan Royals (RR)**: Based in Jaipur, Rajasthan. They have won the IPL title once (2008) and reached the finals three times.\\n\\n9. **Sunrisers Hyderabad (SRH)**: Based in Hyderabad, Telangana. They were previously known as the Deccan Chargers but changed their name to Sunrisers Hyderabad in 2013.\\n\\n10. **Gujarat Titans (GT)**: Based in Gujarat, India. They are a new team that replaced the former team Gujarat Lions in 2021.\\n\\nEach team has its own unique identity and fan base, with many teams having strong rivalries within the league.'"
      ]
     },
     "execution_count": 1,
     "metadata": {},
     "output_type": "execute_result"
    }
   ],
   "source": [
    "from langchain.llms import Ollama\n",
    "from langchain.callbacks.manager import CallbackManager\n",
    "from langchain.callbacks.streaming_stdout import StreamingStdOutCallbackHandler \n",
    "                                 \n",
    "llm = Ollama(model=\"llama3.2\", callback_manager = CallbackManager([StreamingStdOutCallbackHandler()]))\n",
    "\n",
    "llm(\"Tell me about the teams in IPL\")"
   ]
  },
  {
   "cell_type": "code",
   "execution_count": 6,
   "metadata": {},
   "outputs": [
    {
     "name": "stdout",
     "output_type": "stream",
     "text": [
      "Common Table Expressries (CTEs) can be extremely useful for making your SQL queries more readable, maintainable, and sometimes even performant depending on how they are used within a database system's execution plan optimizer. Here’s an example that demonstrates the use of CTEs in a query: \n",
      "\n",
      "```sql\n",
      "WITH EmployeeSalary AS ( -- Define a CTE named \"EmployeeSalary\" with columns 'name', and computed salary for each employee based on hours worked, hourly rate\n",
      "    SELECT name, hours_worked * $25.00 as calculated_salary \n",
      "    FROM employees\n",
      ") \n",
      "SELECT es.*, emp.age -- Select all fields from the CTE \"EmployeeSalary\" and also retrieve age field of employee record using JOIN operation with original table `employees` (assuming 'age' column exists in this context). Note that we are not joining on salaries directly because they can change frequently\n",
      "FROM EmployeeSalary es  -- Use alias for the CTE name to avoid ambiguity when referencing it multiple times.\n",
      "JOIN employees emp ON es.name = emp.name;\n",
      "```\n",
      "In terms of memory management, how SQL Server or other database systems manage execution plan and resources while executing a query that uses one or more Common Table Expressions (CTEs) can vary based on the optimization algorithm employed by your specific DBMS (Database Management System). \n",
      "Generally speaking, when you submit an SQL statement with CTEs to execute in any of these RDBMS systems like PostgreSQL, MySQL, Microsoft Azure Database for PostgreSQL or MariaDB etc., it first parses and validates the syntax before building a logical query plan. During this phase, DBMS may use memory (RAM) resources as temporary storage space during various stages such as:\n",
      "1. Parsing - where SQL statement is tokenized into syntactical elements that are checked for correctness against DDL rules/constraints and used to build the execution tree structure which represents query plan in form of nodes like SELECT, FROM etc.. This phase often uses memory resources during parsing validation (although this can vary across DBMS).\n",
      "2. Execution Planning - where logical SQL Query Plan is optimized by a planner for producing an efficient physical I/O access path to execute the statement as quickly and efficiently as possible using available system resources such as CPU, Disk I/O subsystems etc.. This phase involves materializing CTE results into temporary tables (or in-memory structures) which can consume memory on disk or RAM during query execution based upon how DBMS is configured. \n",
      "3. Query Execution - where the optimized logical plan of a SQL statement with one or more CTE(s), JOIN, subqueries etc., are executed by executing engine that uses CPU and Disk I/O resources to fetch data from tables into memory buffers (RAM) as required for processing query results in-memory before writing them back out on disk. \n",
      "It's important to note however, the use of CTE with recursive calls or when dealing complex subqueries within larger queries can lead more intensive resource demands and longer execution times compared to equivalent nested SELECT statements especially if not well optimized (e.g., without proper indexing strategy). In cases where you suspect a query's performance issue might be related in part to CTE usage, it is recommended consulting with your DBA or considering alternate approach/techniques such as temporary tables instead for better resource management and optimization opportunities tailored towards specific RDBMS system characteristics & configuration. \n",
      "In conclusion: - Use of recursive CTEs should generally be avoided when possible since they can lead to significant memory usage on some DBMS systems especially with poor indexing strategies or large datasets, leading potentially into a stack overflow error (if recursion depth exceeded). For non-recursive/non-complex queries involving simple data aggregations etc., use of CTEs should not pose any major problem as they are generally well optimized by modern RDBMS system's query planner and execution engine. \n",
      "Always consult with your DBA for best practices on managing resource usage & performance tuning related to complex SQL queries involving multiple sub-queries, recursive/nested CTE calls etc.."
     ]
    },
    {
     "data": {
      "text/plain": [
       "'Common Table Expressries (CTEs) can be extremely useful for making your SQL queries more readable, maintainable, and sometimes even performant depending on how they are used within a database system\\'s execution plan optimizer. Here’s an example that demonstrates the use of CTEs in a query: \\n\\n```sql\\nWITH EmployeeSalary AS ( -- Define a CTE named \"EmployeeSalary\" with columns \\'name\\', and computed salary for each employee based on hours worked, hourly rate\\n    SELECT name, hours_worked * $25.00 as calculated_salary \\n    FROM employees\\n) \\nSELECT es.*, emp.age -- Select all fields from the CTE \"EmployeeSalary\" and also retrieve age field of employee record using JOIN operation with original table `employees` (assuming \\'age\\' column exists in this context). Note that we are not joining on salaries directly because they can change frequently\\nFROM EmployeeSalary es  -- Use alias for the CTE name to avoid ambiguity when referencing it multiple times.\\nJOIN employees emp ON es.name = emp.name;\\n```\\nIn terms of memory management, how SQL Server or other database systems manage execution plan and resources while executing a query that uses one or more Common Table Expressions (CTEs) can vary based on the optimization algorithm employed by your specific DBMS (Database Management System). \\nGenerally speaking, when you submit an SQL statement with CTEs to execute in any of these RDBMS systems like PostgreSQL, MySQL, Microsoft Azure Database for PostgreSQL or MariaDB etc., it first parses and validates the syntax before building a logical query plan. During this phase, DBMS may use memory (RAM) resources as temporary storage space during various stages such as:\\n1. Parsing - where SQL statement is tokenized into syntactical elements that are checked for correctness against DDL rules/constraints and used to build the execution tree structure which represents query plan in form of nodes like SELECT, FROM etc.. This phase often uses memory resources during parsing validation (although this can vary across DBMS).\\n2. Execution Planning - where logical SQL Query Plan is optimized by a planner for producing an efficient physical I/O access path to execute the statement as quickly and efficiently as possible using available system resources such as CPU, Disk I/O subsystems etc.. This phase involves materializing CTE results into temporary tables (or in-memory structures) which can consume memory on disk or RAM during query execution based upon how DBMS is configured. \\n3. Query Execution - where the optimized logical plan of a SQL statement with one or more CTE(s), JOIN, subqueries etc., are executed by executing engine that uses CPU and Disk I/O resources to fetch data from tables into memory buffers (RAM) as required for processing query results in-memory before writing them back out on disk. \\nIt\\'s important to note however, the use of CTE with recursive calls or when dealing complex subqueries within larger queries can lead more intensive resource demands and longer execution times compared to equivalent nested SELECT statements especially if not well optimized (e.g., without proper indexing strategy). In cases where you suspect a query\\'s performance issue might be related in part to CTE usage, it is recommended consulting with your DBA or considering alternate approach/techniques such as temporary tables instead for better resource management and optimization opportunities tailored towards specific RDBMS system characteristics & configuration. \\nIn conclusion: - Use of recursive CTEs should generally be avoided when possible since they can lead to significant memory usage on some DBMS systems especially with poor indexing strategies or large datasets, leading potentially into a stack overflow error (if recursion depth exceeded). For non-recursive/non-complex queries involving simple data aggregations etc., use of CTEs should not pose any major problem as they are generally well optimized by modern RDBMS system\\'s query planner and execution engine. \\nAlways consult with your DBA for best practices on managing resource usage & performance tuning related to complex SQL queries involving multiple sub-queries, recursive/nested CTE calls etc..'"
      ]
     },
     "execution_count": 6,
     "metadata": {},
     "output_type": "execute_result"
    }
   ],
   "source": [
    "llm(\"Write a SQL query to demonstrate the usage of CTEs in the query. When to use them and how is memory managed while running CTEs ?\")"
   ]
  },
  {
   "cell_type": "code",
   "execution_count": 9,
   "metadata": {},
   "outputs": [],
   "source": [
    "from langchain.llms import Ollama\n",
    "from langchain.chains import LLMChain\n",
    "from langchain.prompts import PromptTemplate\n",
    "from langchain.callbacks.manager import CallbackManager\n",
    "from langchain.callbacks.streaming_stdout import StreamingStdOutCallbackHandler    \n",
    "\n",
    "llm = Ollama(model=\"llama3.2\", temperature=0.9)\n",
    "\n",
    "prompt = PromptTemplate(\n",
    "    input_variables=[\"topic\"],\n",
    "    template=\"Give me 5 interesting facts about {topic}?\",\n",
    ")\n",
    "\n",
    "chain = LLMChain(llm=llm, prompt=prompt, verbose=False)"
   ]
  },
  {
   "cell_type": "code",
   "execution_count": 12,
   "metadata": {},
   "outputs": [
    {
     "name": "stdout",
     "output_type": "stream",
     "text": [
      "1. Incredible batting technique: Sachin was known for his exceptional hand-eye coordination and precise timing, which contributed to a high batting average throughout his career. His ability to adjust according to different pitchers helped him achieve consistent success at the crease. He holds numerous records in Test cricket as well.\n",
      "\n",
      "2. Record holder: Sachin Tendulkar is not only one of the greatest batsmen but also held several world record during his time, including highest number of runs scored in a calendar year (1894), most centuries (centuries and half-centuries) scored by any player in ODIs (265) as well as having 70 hundreds in Test cricket.\n",
      "\n",
      "3. The 'Tiger' persona: Sachin Tendulkar was nicknamed \"The Tiger\" for his fierce batting style, aggressive approach at the crease and ability to score quick runs without fear of taking risks on a pitch with many variables like spin or pace which can turn unpredictable.\n",
      "\n",
      "4. Cricket icon: Sachin had immense respect among players irrespective of their level (amateurs, domestic cricketers etc.), he was seen as an embodiment of the love for Indian Classical Cricket and a true sportsperson who played with his heart in every ball that came to bat. He is often credited with popularizing Indian cricket on global platforms including bringing corporates into it through sponsorship deals, leading Sachin's Army - an enthusisatsy of fans from all around the world and making Tendulkar a household name beyond his home country India.\n",
      "\n",
      "5. Philanthropist: Apart from being great on field performances, off-field too he has contributed immensely to society through Sachin’s Charity which works towards creating facilities for underprivileged children in Mumbai and all over the world. He also started a sports school named “The Tiger Club” where youngsters learn various aspects of cricket as well as life skills like respect, discipline etc., making him not just an exceptional player but a great role model too.\n"
     ]
    }
   ],
   "source": [
    "# Run the chain only specifying the input variable.\n",
    "print(chain.run(\"Sachin Tendulkar, the great\"))"
   ]
  }
 ],
 "metadata": {
  "kernelspec": {
   "display_name": "learn",
   "language": "python",
   "name": "python3"
  },
  "language_info": {
   "codemirror_mode": {
    "name": "ipython",
    "version": 3
   },
   "file_extension": ".py",
   "mimetype": "text/x-python",
   "name": "python",
   "nbconvert_exporter": "python",
   "pygments_lexer": "ipython3",
   "version": "3.12.2"
  }
 },
 "nbformat": 4,
 "nbformat_minor": 2
}
