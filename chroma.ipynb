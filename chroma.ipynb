{
 "cells": [
  {
   "cell_type": "markdown",
   "metadata": {},
   "source": [
    "## Basic Usage - ChromaDb"
   ]
  },
  {
   "cell_type": "code",
   "execution_count": 6,
   "metadata": {},
   "outputs": [],
   "source": [
    "import chromadb\n",
    "\n",
    "# No data is persisted\n",
    "chroma_client = chromadb.Client()\n",
    "collection = chroma_client.create_collection(name=\"new_collection\")"
   ]
  },
  {
   "cell_type": "code",
   "execution_count": 8,
   "metadata": {},
   "outputs": [
    {
     "name": "stderr",
     "output_type": "stream",
     "text": [
      "Add of existing embedding ID: id1\n",
      "Add of existing embedding ID: id2\n",
      "Insert of existing embedding ID: id1\n",
      "Insert of existing embedding ID: id2\n"
     ]
    }
   ],
   "source": [
    "collection.add(\n",
    "    documents=[\n",
    "        \"This is a document about football\",\n",
    "        \"This is a document about rugby\"\n",
    "    ],\n",
    "    ids=[\"id1\", \"id2\"]\n",
    ")\n"
   ]
  },
  {
   "cell_type": "code",
   "execution_count": 9,
   "metadata": {},
   "outputs": [
    {
     "name": "stdout",
     "output_type": "stream",
     "text": [
      "{\n",
      "    \"ids\": [\n",
      "        [\n",
      "            \"id1\",\n",
      "            \"id2\"\n",
      "        ]\n",
      "    ],\n",
      "    \"embeddings\": null,\n",
      "    \"documents\": [\n",
      "        [\n",
      "            \"This is a document about pineapple\",\n",
      "            \"This is a document about oranges\"\n",
      "        ]\n",
      "    ],\n",
      "    \"uris\": null,\n",
      "    \"data\": null,\n",
      "    \"metadatas\": [\n",
      "        [\n",
      "            null,\n",
      "            null\n",
      "        ]\n",
      "    ],\n",
      "    \"distances\": [\n",
      "        [\n",
      "            1.4212119579315186,\n",
      "            1.6473313570022583\n",
      "        ]\n",
      "    ],\n",
      "    \"included\": [\n",
      "        \"distances\",\n",
      "        \"documents\",\n",
      "        \"metadatas\"\n",
      "    ]\n",
      "}\n"
     ]
    }
   ],
   "source": [
    "import json\n",
    "\n",
    "results = collection.query(\n",
    "    query_texts=[\"This is a query document about cricket\"], \n",
    "    n_results=2 \n",
    ")\n",
    "\n",
    "print(json.dumps(results, indent=4))\n"
   ]
  },
  {
   "cell_type": "markdown",
   "metadata": {},
   "source": [
    "## Using Embedding Pipeline from Hugging Face Transformers"
   ]
  },
  {
   "cell_type": "code",
   "execution_count": 75,
   "metadata": {},
   "outputs": [],
   "source": [
    "import chromadb\n",
    "from chromadb.utils import embedding_functions\n",
    "\n",
    "client = chromadb.Client()\n"
   ]
  },
  {
   "cell_type": "code",
   "execution_count": 78,
   "metadata": {},
   "outputs": [],
   "source": [
    "embedding_func = embedding_functions.SentenceTransformerEmbeddingFunction(model_name=\"all-MiniLM-L6-v2\")\n",
    "\n",
    "\n",
    "# Create or load a collection\n",
    "collection_name = \"text_embeddings\"\n",
    "collection = client.get_or_create_collection(name=collection_name, embedding_function=embedding_func, metadata={\"hnsw:space\": \"cosine\"},)"
   ]
  },
  {
   "cell_type": "code",
   "execution_count": 72,
   "metadata": {},
   "outputs": [
    {
     "name": "stderr",
     "output_type": "stream",
     "text": [
      "Device set to use mps:0\n"
     ]
    }
   ],
   "source": [
    "# Example data\n",
    "documents = [\n",
    "    \"Machine learning models are widely used for predictions.\",\n",
    "    \"Neural networks are inspired by the human brain.\",\n",
    "    \"ChromaDB is a vector database for embeddings.\",\n",
    "    \"Python is a versatile programming language.\",\n",
    "    \"Artificial intelligence is transforming industries.\"\n",
    "]\n"
   ]
  },
  {
   "cell_type": "code",
   "execution_count": 79,
   "metadata": {},
   "outputs": [
    {
     "name": "stdout",
     "output_type": "stream",
     "text": [
      "Added 5 documents to the ChromaDB collection.\n"
     ]
    }
   ],
   "source": [
    "# Add documents to the ChromaDB collection\n",
    "\n",
    "ids = [f\"doc_{i}\" for i in range(len(documents))]\n",
    "\n",
    "collection.add(\n",
    "    ids=ids,\n",
    "    documents=documents\n",
    ")\n",
    "\n",
    "print(f\"Added {len(documents)} documents to the ChromaDB collection.\")\n",
    "\n"
   ]
  },
  {
   "cell_type": "code",
   "execution_count": 87,
   "metadata": {},
   "outputs": [
    {
     "name": "stdout",
     "output_type": "stream",
     "text": [
      "\n",
      "Query Results:\n",
      "Document ID: doc_1, Distance: 0.6707\n",
      "Content: Neural networks are inspired by the human brain.\n",
      "\n",
      "Document ID: doc_0, Distance: 1.2591\n",
      "Content: Machine learning models are widely used for predictions.\n",
      "\n",
      "Document ID: doc_4, Distance: 1.4476\n",
      "Content: Artificial intelligence is transforming industries.\n",
      "\n"
     ]
    }
   ],
   "source": [
    "# Query ChromaDB\n",
    "query = \"Explain neural networks\"\n",
    "\n",
    "\n",
    "# Perform similarity search\n",
    "results = collection.query(\n",
    "    query_texts=[query],\n",
    "    n_results=3\n",
    ")\n",
    "\n",
    "# Display results\n",
    "print(\"\\nQuery Results:\")\n",
    "for doc_id, doc, distance in zip(results['ids'][0], results['documents'][0], results['distances'][0]):\n",
    "    print(f\"Document ID: {doc_id}, Distance: {distance:.4f}\")\n",
    "    print(f\"Content: {doc}\\n\")\n",
    "\n",
    "# Optional: Persist database\n",
    "#client.persist()``"
   ]
  }
 ],
 "metadata": {
  "kernelspec": {
   "display_name": "learn",
   "language": "python",
   "name": "python3"
  },
  "language_info": {
   "codemirror_mode": {
    "name": "ipython",
    "version": 3
   },
   "file_extension": ".py",
   "mimetype": "text/x-python",
   "name": "python",
   "nbconvert_exporter": "python",
   "pygments_lexer": "ipython3",
   "version": "3.12.2"
  }
 },
 "nbformat": 4,
 "nbformat_minor": 2
}
